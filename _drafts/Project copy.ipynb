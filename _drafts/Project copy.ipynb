{
 "cells": [
  {
   "cell_type": "markdown",
   "metadata": {},
   "source": [
    "# SQL Portfolio Project\n",
    "\n",
    "# Introduction\n",
    "\n",
    "The purpose of this portfolio project is to demonstrate my Structured Query Language (SQL) technical skills. Specifically, I want to show my knowledge of relational database (DB) architecture and ability to query and manipulate databases using SQL Data Manipulation Language (DML) and Data Definition Language (DDL).\n",
    "\n",
    "This Jupyter Notebook will begin with importing a single dataset into a new SQLite database then I will explore, expand, and evaluate. Python code is used to get the notebook up and running but I will stick to using SQL commands whenever possible.\n",
    "\n",
    "## Outline:\n",
    "1. Create Database\n",
    "2. Explore: SQL queries round 1\n",
    "3. Expand Database\n",
    "4. Explore: SQL Queries Round 2\n",
    "5. Evaluate\n",
    "\n",
    "## Data description\n",
    "\n",
    "The data I'll explore comes from a portion of my PhD dissertation work. This dataset includes estimates of dissolved CO<sub>2</sub> (also referred to as *p*CO<sub>2</sub>) values in flowing fresh waters across the Contiguous United States from 1990 through 2020. The *p*CO<sub>2</sub> estimates come from using additional water quality parameters collected in flowing freshwater locations across the US. The purpose of this dataset is not to get into the details regarding carbon dynamics but to showcase my SQL skills. Therefore, I will include some explanation, when necessary, but I will keep it brief. Further details about the dataset's creation can be found in my published [data paper](https://ttoavs.github.io/publication/CDFLOW)."
   ]
  },
  {
   "cell_type": "markdown",
   "metadata": {},
   "source": [
    "# 1. Create Database\n",
    "\n",
    "First, we need to do some setup by loading SQLite into the environment, importing the module, and creating the database. If interested the data can be downloaded [here](https://doi.org/10.6084/m9.figshare.19787326.v2)"
   ]
  },
  {
   "cell_type": "code",
   "execution_count": 1,
   "metadata": {},
   "outputs": [],
   "source": [
    "# Load\n",
    "%load_ext sql\n",
    "\n",
    "# Import\n",
    "import sqlite3\n",
    "\n",
    "# Create Database\n",
    "con = sqlite3.connect(\"CDFLOW.db\")\n",
    "cur = con.cursor()\n",
    "\n",
    "# Connect to Database\n",
    "%sql sqlite:///CDFLOW.db"
   ]
  },
  {
   "cell_type": "markdown",
   "metadata": {},
   "source": [
    "Next, I will read in the dataset and do a few manipulations before adding it to the created SQLite DB. The manipulations performed are primarily to narrow down the size of the dataset so that SQLite can handle it. One of the great things about using SQL-based relational DBs is their ability to process big data, but SQLite as the name implies is for smaller relational DBs. However, in this environment, SQLite is great for learning and showcasing technical SQL skills."
   ]
  },
  {
   "cell_type": "code",
   "execution_count": 2,
   "metadata": {},
   "outputs": [],
   "source": [
    "# import pandas\n",
    "import pandas as pd\n",
    "\n",
    "# read in data\n",
    "df = pd.read_csv(\"Data/CDFLOW.csv\", index_col=False)\n",
    "\n",
    "# filter data to 2018-2020\n",
    "df = df.loc[(df[\"Date\"] >= \"2018-01-01\") & (df[\"Date\"] < \"2019-12-31\")]\n",
    "\n",
    "# filter for observations with greater than 1000 alkalinity\n",
    "df = df.loc[(df[\"Alkalinity.ueq/kgw\"] > 1000)]\n",
    "\n",
    "# filter for observations with less than 10000 pCO2\n",
    "df = df.loc[(df[\"pCO2.uatm\"] < 10000)]\n",
    "\n",
    "# Filter out alks over 5000\n",
    "df = df.loc[(df[\"Alkalinity.ueq/kgw\"] < 5000)]\n",
    "\n",
    "# drop some unnecessary columns\n",
    "df = df.drop(columns=[\"Time\", \"CO2.mg/l\"])\n",
    "\n",
    "# create id col\n",
    "df[\"id\"] = df[\"COMID\"].astype(str) + \"_\" + df[\"Date\"]\n",
    "\n",
    "# Make HUC12 string\n",
    "df[\"HUC_12\"] = df[\"HUC_12\"].astype(str)\n",
    "\n",
    "# Add leading zeros\n",
    "df[\"HUC_12\"] = df[\"HUC_12\"].str.zfill(12)"
   ]
  },
  {
   "cell_type": "markdown",
   "metadata": {},
   "source": [
    "Now, I can add the dataset to the SQLite DB and create the first table."
   ]
  },
  {
   "cell_type": "code",
   "execution_count": 3,
   "metadata": {},
   "outputs": [],
   "source": [
    "df.to_sql(\"CDFLOWTBL\", con, if_exists=\"replace\", index=False, method=\"multi\")"
   ]
  },
  {
   "cell_type": "code",
   "execution_count": 4,
   "metadata": {},
   "outputs": [
    {
     "name": "stdout",
     "output_type": "stream",
     "text": [
      " * sqlite:///CDFLOW.db\n",
      "Done.\n"
     ]
    },
    {
     "data": {
      "text/plain": [
       "[]"
      ]
     },
     "execution_count": 4,
     "metadata": {},
     "output_type": "execute_result"
    }
   ],
   "source": [
    "%sql CREATE TABLE CDFLOW AS SELECT * FROM CDFLOWTBL"
   ]
  },
  {
   "cell_type": "markdown",
   "metadata": {},
   "source": [
    "Lets take a look at the table and see the features that are included."
   ]
  },
  {
   "cell_type": "code",
   "execution_count": 5,
   "metadata": {},
   "outputs": [
    {
     "name": "stdout",
     "output_type": "stream",
     "text": [
      " * sqlite:///CDFLOW.db\n",
      "Done.\n"
     ]
    },
    {
     "data": {
      "text/html": [
       "<table>\n",
       "    <thead>\n",
       "        <tr>\n",
       "            <th>cid</th>\n",
       "            <th>name</th>\n",
       "            <th>type</th>\n",
       "            <th>notnull</th>\n",
       "            <th>dflt_value</th>\n",
       "            <th>pk</th>\n",
       "        </tr>\n",
       "    </thead>\n",
       "    <tbody>\n",
       "        <tr>\n",
       "            <td>0</td>\n",
       "            <td>COMID</td>\n",
       "            <td>INT</td>\n",
       "            <td>0</td>\n",
       "            <td>None</td>\n",
       "            <td>0</td>\n",
       "        </tr>\n",
       "        <tr>\n",
       "            <td>1</td>\n",
       "            <td>Date</td>\n",
       "            <td>TEXT</td>\n",
       "            <td>0</td>\n",
       "            <td>None</td>\n",
       "            <td>0</td>\n",
       "        </tr>\n",
       "        <tr>\n",
       "            <td>2</td>\n",
       "            <td>HUC_12</td>\n",
       "            <td>TEXT</td>\n",
       "            <td>0</td>\n",
       "            <td>None</td>\n",
       "            <td>0</td>\n",
       "        </tr>\n",
       "        <tr>\n",
       "            <td>3</td>\n",
       "            <td>State</td>\n",
       "            <td>TEXT</td>\n",
       "            <td>0</td>\n",
       "            <td>None</td>\n",
       "            <td>0</td>\n",
       "        </tr>\n",
       "        <tr>\n",
       "            <td>4</td>\n",
       "            <td>Temp.C</td>\n",
       "            <td>REAL</td>\n",
       "            <td>0</td>\n",
       "            <td>None</td>\n",
       "            <td>0</td>\n",
       "        </tr>\n",
       "        <tr>\n",
       "            <td>5</td>\n",
       "            <td>pH.std_units</td>\n",
       "            <td>REAL</td>\n",
       "            <td>0</td>\n",
       "            <td>None</td>\n",
       "            <td>0</td>\n",
       "        </tr>\n",
       "        <tr>\n",
       "            <td>6</td>\n",
       "            <td>Alkalinity.ueq/kgw</td>\n",
       "            <td>REAL</td>\n",
       "            <td>0</td>\n",
       "            <td>None</td>\n",
       "            <td>0</td>\n",
       "        </tr>\n",
       "        <tr>\n",
       "            <td>7</td>\n",
       "            <td>pCO2.uatm</td>\n",
       "            <td>REAL</td>\n",
       "            <td>0</td>\n",
       "            <td>None</td>\n",
       "            <td>0</td>\n",
       "        </tr>\n",
       "        <tr>\n",
       "            <td>8</td>\n",
       "            <td>id</td>\n",
       "            <td>TEXT</td>\n",
       "            <td>0</td>\n",
       "            <td>None</td>\n",
       "            <td>0</td>\n",
       "        </tr>\n",
       "    </tbody>\n",
       "</table>"
      ],
      "text/plain": [
       "[(0, 'COMID', 'INT', 0, None, 0),\n",
       " (1, 'Date', 'TEXT', 0, None, 0),\n",
       " (2, 'HUC_12', 'TEXT', 0, None, 0),\n",
       " (3, 'State', 'TEXT', 0, None, 0),\n",
       " (4, 'Temp.C', 'REAL', 0, None, 0),\n",
       " (5, 'pH.std_units', 'REAL', 0, None, 0),\n",
       " (6, 'Alkalinity.ueq/kgw', 'REAL', 0, None, 0),\n",
       " (7, 'pCO2.uatm', 'REAL', 0, None, 0),\n",
       " (8, 'id', 'TEXT', 0, None, 0)]"
      ]
     },
     "execution_count": 5,
     "metadata": {},
     "output_type": "execute_result"
    }
   ],
   "source": [
    "%sql PRAGMA table_info(CDFLOW)"
   ]
  },
  {
   "cell_type": "markdown",
   "metadata": {},
   "source": [
    "Displayed above are the 8 features of the SQL table. For some context, the following table describes each of the features. Also, note that id is not directly assigned as the PK in the SQLite DB, but it would be in a real working environment.\n",
    "\n",
    "Feature Name            | Description\n",
    "------------            | -----------\n",
    "id (Primary Key)        | Unique observation id (COMID & Date)\n",
    "COMID                   | Specific stream catchment segment, sampling site\n",
    "Date                    | Date of measurments\n",
    "HUC_12                  | HUC12 watershed where measurments occured\n",
    "State                   | US state where measurments occured\n",
    "Temp.C                  | Temperature of water (used to estimate *p*CO<sub>2</sub>)\n",
    "pH.std_units            | pH of water (used to estimate *p*CO<sub>2</sub>)\n",
    "Alkalinity.ueq.kgw      | Alkalinity of water (used to estimate *p*CO<sub>2</sub>)\n",
    "*p*CO<sub>2</sub>.uatm  | partial pressure of CO2 in water (estimate)\n",
    "\n",
    "\n"
   ]
  },
  {
   "cell_type": "markdown",
   "metadata": {},
   "source": [
    "# 2. Explore: SQL Queries Round 1\n",
    "\n",
    "Now that I have a DB to work with, we can dive in! I created 12 different prompts (tasks/questions) that require SQL queries. The prompts will guide the exploration of the DB."
   ]
  },
  {
   "cell_type": "markdown",
   "metadata": {},
   "source": [
    "1\\. Of the three spatial grouping features how many unique groups are represented?"
   ]
  },
  {
   "cell_type": "code",
   "execution_count": 6,
   "metadata": {},
   "outputs": [
    {
     "name": "stdout",
     "output_type": "stream",
     "text": [
      " * sqlite:///CDFLOW.db\n",
      "Done.\n"
     ]
    },
    {
     "data": {
      "text/html": [
       "<table>\n",
       "    <thead>\n",
       "        <tr>\n",
       "            <th>State</th>\n",
       "            <th>HUC_12</th>\n",
       "            <th>COMID</th>\n",
       "        </tr>\n",
       "    </thead>\n",
       "    <tbody>\n",
       "        <tr>\n",
       "            <td>46</td>\n",
       "            <td>2669</td>\n",
       "            <td>3437</td>\n",
       "        </tr>\n",
       "    </tbody>\n",
       "</table>"
      ],
      "text/plain": [
       "[(46, 2669, 3437)]"
      ]
     },
     "execution_count": 6,
     "metadata": {},
     "output_type": "execute_result"
    }
   ],
   "source": [
    "%sql SELECT COUNT(DISTINCT(State)) AS State, COUNT(DISTINCT(HUC_12)) AS HUC_12, COUNT(DISTINCT(COMID)) AS COMID FROM CDFLOW"
   ]
  },
  {
   "cell_type": "markdown",
   "metadata": {},
   "source": [
    "2\\. How many observations are available in each of the 46 states represented in the data? Which state has the least?"
   ]
  },
  {
   "cell_type": "code",
   "execution_count": 7,
   "metadata": {},
   "outputs": [
    {
     "name": "stdout",
     "output_type": "stream",
     "text": [
      " * sqlite:///CDFLOW.db\n",
      "Done.\n"
     ]
    },
    {
     "data": {
      "text/html": [
       "<table>\n",
       "    <thead>\n",
       "        <tr>\n",
       "            <th>Count</th>\n",
       "            <th>State</th>\n",
       "        </tr>\n",
       "    </thead>\n",
       "    <tbody>\n",
       "        <tr>\n",
       "            <td>25</td>\n",
       "            <td>WV</td>\n",
       "        </tr>\n",
       "        <tr>\n",
       "            <td>26</td>\n",
       "            <td>MA</td>\n",
       "        </tr>\n",
       "        <tr>\n",
       "            <td>37</td>\n",
       "            <td>MD</td>\n",
       "        </tr>\n",
       "        <tr>\n",
       "            <td>39</td>\n",
       "            <td>NC</td>\n",
       "        </tr>\n",
       "        <tr>\n",
       "            <td>46</td>\n",
       "            <td>KY</td>\n",
       "        </tr>\n",
       "    </tbody>\n",
       "</table>"
      ],
      "text/plain": [
       "[(25, 'WV'), (26, 'MA'), (37, 'MD'), (39, 'NC'), (46, 'KY')]"
      ]
     },
     "execution_count": 7,
     "metadata": {},
     "output_type": "execute_result"
    }
   ],
   "source": [
    "%sql SELECT COUNT(\"pCO2.uatm\") AS Count, State FROM CDFLOW GROUP BY State ORDER By Count ASC LIMIT 5"
   ]
  },
  {
   "cell_type": "markdown",
   "metadata": {},
   "source": [
    "3\\. What is the mean, max, and min value from each state?"
   ]
  },
  {
   "cell_type": "code",
   "execution_count": 8,
   "metadata": {},
   "outputs": [
    {
     "name": "stdout",
     "output_type": "stream",
     "text": [
      " * sqlite:///CDFLOW.db\n",
      "Done.\n"
     ]
    },
    {
     "data": {
      "text/html": [
       "<table>\n",
       "    <thead>\n",
       "        <tr>\n",
       "            <th>Mean</th>\n",
       "            <th>Min</th>\n",
       "            <th>Max</th>\n",
       "            <th>State</th>\n",
       "        </tr>\n",
       "    </thead>\n",
       "    <tbody>\n",
       "        <tr>\n",
       "            <td>2668.0</td>\n",
       "            <td>0.0</td>\n",
       "            <td>9976.0</td>\n",
       "            <td>AL</td>\n",
       "        </tr>\n",
       "        <tr>\n",
       "            <td>1907.0</td>\n",
       "            <td>218.0</td>\n",
       "            <td>6860.0</td>\n",
       "            <td>AR</td>\n",
       "        </tr>\n",
       "        <tr>\n",
       "            <td>1448.0</td>\n",
       "            <td>88.0</td>\n",
       "            <td>7794.0</td>\n",
       "            <td>AZ</td>\n",
       "        </tr>\n",
       "        <tr>\n",
       "            <td>1529.0</td>\n",
       "            <td>262.0</td>\n",
       "            <td>8950.0</td>\n",
       "            <td>CA</td>\n",
       "        </tr>\n",
       "        <tr>\n",
       "            <td>1713.0</td>\n",
       "            <td>0.0</td>\n",
       "            <td>9943.0</td>\n",
       "            <td>CO</td>\n",
       "        </tr>\n",
       "    </tbody>\n",
       "</table>"
      ],
      "text/plain": [
       "[(2668.0, 0.0, 9976.0, 'AL'),\n",
       " (1907.0, 218.0, 6860.0, 'AR'),\n",
       " (1448.0, 88.0, 7794.0, 'AZ'),\n",
       " (1529.0, 262.0, 8950.0, 'CA'),\n",
       " (1713.0, 0.0, 9943.0, 'CO')]"
      ]
     },
     "execution_count": 8,
     "metadata": {},
     "output_type": "execute_result"
    }
   ],
   "source": [
    "%sql SELECT round(avg(\"pCO2.uatm\"),0) AS Mean, round(min(\"pCO2.uatm\"),0) AS Min, round(max(\"pCO2.uatm\"),0) AS Max, State FROM CDFLOW GROUP BY State LIMIT 5"
   ]
  },
  {
   "cell_type": "markdown",
   "metadata": {},
   "source": [
    "4\\. How many observations have pH values over 7?"
   ]
  },
  {
   "cell_type": "code",
   "execution_count": 9,
   "metadata": {},
   "outputs": [
    {
     "name": "stdout",
     "output_type": "stream",
     "text": [
      " * sqlite:///CDFLOW.db\n",
      "Done.\n"
     ]
    },
    {
     "data": {
      "text/html": [
       "<table>\n",
       "    <thead>\n",
       "        <tr>\n",
       "            <th>count(COMID)</th>\n",
       "        </tr>\n",
       "    </thead>\n",
       "    <tbody>\n",
       "        <tr>\n",
       "            <td>24773</td>\n",
       "        </tr>\n",
       "    </tbody>\n",
       "</table>"
      ],
      "text/plain": [
       "[(24773,)]"
      ]
     },
     "execution_count": 9,
     "metadata": {},
     "output_type": "execute_result"
    }
   ],
   "source": [
    "%sql SELECT count(COMID) FROM CDFLOW WHERE \"pH.std_units\" > 7"
   ]
  },
  {
   "cell_type": "markdown",
   "metadata": {},
   "source": [
    "5\\. Which 5 States have the lowest average temperatures?"
   ]
  },
  {
   "cell_type": "code",
   "execution_count": 10,
   "metadata": {},
   "outputs": [
    {
     "name": "stdout",
     "output_type": "stream",
     "text": [
      " * sqlite:///CDFLOW.db\n",
      "Done.\n"
     ]
    },
    {
     "data": {
      "text/html": [
       "<table>\n",
       "    <thead>\n",
       "        <tr>\n",
       "            <th>mean</th>\n",
       "            <th>State</th>\n",
       "        </tr>\n",
       "    </thead>\n",
       "    <tbody>\n",
       "        <tr>\n",
       "            <td>9.521993174061434</td>\n",
       "            <td>WY</td>\n",
       "        </tr>\n",
       "        <tr>\n",
       "            <td>10.960207705192627</td>\n",
       "            <td>MT</td>\n",
       "        </tr>\n",
       "        <tr>\n",
       "            <td>11.254255319148935</td>\n",
       "            <td>NV</td>\n",
       "        </tr>\n",
       "        <tr>\n",
       "            <td>11.579574829931975</td>\n",
       "            <td>ND</td>\n",
       "        </tr>\n",
       "        <tr>\n",
       "            <td>12.166875993640707</td>\n",
       "            <td>UT</td>\n",
       "        </tr>\n",
       "    </tbody>\n",
       "</table>"
      ],
      "text/plain": [
       "[(9.521993174061434, 'WY'),\n",
       " (10.960207705192627, 'MT'),\n",
       " (11.254255319148935, 'NV'),\n",
       " (11.579574829931975, 'ND'),\n",
       " (12.166875993640707, 'UT')]"
      ]
     },
     "execution_count": 10,
     "metadata": {},
     "output_type": "execute_result"
    }
   ],
   "source": [
    "%sql SELECT avg(\"Temp.C\") AS mean, State FROM CDFLOW GROUP BY State ORDER BY mean ASC LIMIT 5"
   ]
  },
  {
   "cell_type": "markdown",
   "metadata": {},
   "source": [
    "6\\. How many observations have above-average pCO2 values?"
   ]
  },
  {
   "cell_type": "code",
   "execution_count": 11,
   "metadata": {},
   "outputs": [
    {
     "name": "stdout",
     "output_type": "stream",
     "text": [
      " * sqlite:///CDFLOW.db\n",
      "Done.\n"
     ]
    },
    {
     "data": {
      "text/html": [
       "<table>\n",
       "    <thead>\n",
       "        <tr>\n",
       "            <th>COUNT(&quot;pCO2.uatm&quot;)</th>\n",
       "        </tr>\n",
       "    </thead>\n",
       "    <tbody>\n",
       "        <tr>\n",
       "            <td>8711</td>\n",
       "        </tr>\n",
       "    </tbody>\n",
       "</table>"
      ],
      "text/plain": [
       "[(8711,)]"
      ]
     },
     "execution_count": 11,
     "metadata": {},
     "output_type": "execute_result"
    }
   ],
   "source": [
    "%sql SELECT COUNT(\"pCO2.uatm\") FROM CDFLOW WHERE \"pCO2.uatm\" > ( SELECT avg(\"pCO2.uatm\") FROM CDFLOW)"
   ]
  },
  {
   "cell_type": "markdown",
   "metadata": {},
   "source": [
    "7\\. How many observations occur in each month?"
   ]
  },
  {
   "cell_type": "code",
   "execution_count": 12,
   "metadata": {},
   "outputs": [
    {
     "name": "stdout",
     "output_type": "stream",
     "text": [
      " * sqlite:///CDFLOW.db\n",
      "Done.\n"
     ]
    },
    {
     "data": {
      "text/html": [
       "<table>\n",
       "    <thead>\n",
       "        <tr>\n",
       "            <th>MONTH</th>\n",
       "            <th>COUNT</th>\n",
       "        </tr>\n",
       "    </thead>\n",
       "    <tbody>\n",
       "        <tr>\n",
       "            <td>01</td>\n",
       "            <td>1080</td>\n",
       "        </tr>\n",
       "        <tr>\n",
       "            <td>02</td>\n",
       "            <td>1347</td>\n",
       "        </tr>\n",
       "        <tr>\n",
       "            <td>03</td>\n",
       "            <td>1795</td>\n",
       "        </tr>\n",
       "        <tr>\n",
       "            <td>04</td>\n",
       "            <td>2165</td>\n",
       "        </tr>\n",
       "        <tr>\n",
       "            <td>05</td>\n",
       "            <td>2662</td>\n",
       "        </tr>\n",
       "        <tr>\n",
       "            <td>06</td>\n",
       "            <td>2665</td>\n",
       "        </tr>\n",
       "        <tr>\n",
       "            <td>07</td>\n",
       "            <td>2833</td>\n",
       "        </tr>\n",
       "        <tr>\n",
       "            <td>08</td>\n",
       "            <td>2702</td>\n",
       "        </tr>\n",
       "        <tr>\n",
       "            <td>09</td>\n",
       "            <td>2837</td>\n",
       "        </tr>\n",
       "        <tr>\n",
       "            <td>10</td>\n",
       "            <td>2363</td>\n",
       "        </tr>\n",
       "        <tr>\n",
       "            <td>11</td>\n",
       "            <td>1316</td>\n",
       "        </tr>\n",
       "        <tr>\n",
       "            <td>12</td>\n",
       "            <td>1247</td>\n",
       "        </tr>\n",
       "    </tbody>\n",
       "</table>"
      ],
      "text/plain": [
       "[('01', 1080),\n",
       " ('02', 1347),\n",
       " ('03', 1795),\n",
       " ('04', 2165),\n",
       " ('05', 2662),\n",
       " ('06', 2665),\n",
       " ('07', 2833),\n",
       " ('08', 2702),\n",
       " ('09', 2837),\n",
       " ('10', 2363),\n",
       " ('11', 1316),\n",
       " ('12', 1247)]"
      ]
     },
     "execution_count": 12,
     "metadata": {},
     "output_type": "execute_result"
    }
   ],
   "source": [
    "%sql SELECT strftime('%m', Date) AS MONTH, count(\"pCO2.uatm\") AS COUNT FROM CDFLOW GROUP BY strftime('%m', Date)"
   ]
  },
  {
   "cell_type": "markdown",
   "metadata": {},
   "source": [
    "8\\. What is the average *p*CO<sub>2</sub> value in Florida during the summer?"
   ]
  },
  {
   "cell_type": "code",
   "execution_count": 13,
   "metadata": {},
   "outputs": [
    {
     "name": "stdout",
     "output_type": "stream",
     "text": [
      " * sqlite:///CDFLOW.db\n",
      "Done.\n"
     ]
    },
    {
     "data": {
      "text/html": [
       "<table>\n",
       "    <thead>\n",
       "        <tr>\n",
       "            <th>value</th>\n",
       "        </tr>\n",
       "    </thead>\n",
       "    <tbody>\n",
       "        <tr>\n",
       "            <td>2475.4609601426464</td>\n",
       "        </tr>\n",
       "    </tbody>\n",
       "</table>"
      ],
      "text/plain": [
       "[(2475.4609601426464,)]"
      ]
     },
     "execution_count": 13,
     "metadata": {},
     "output_type": "execute_result"
    }
   ],
   "source": [
    "%sql SELECT avg(\"pCO2.uatm\") AS value FROM CDFLOW WHERE State = \"FL\" AND strftime('%m', Date) + 0 > 5 AND strftime('%m', Date) + 0 < 9"
   ]
  },
  {
   "cell_type": "markdown",
   "metadata": {},
   "source": [
    "9\\. What are the average HUC_12 pH values in Minnesota?"
   ]
  },
  {
   "cell_type": "code",
   "execution_count": 14,
   "metadata": {},
   "outputs": [
    {
     "name": "stdout",
     "output_type": "stream",
     "text": [
      " * sqlite:///CDFLOW.db\n",
      "Done.\n"
     ]
    },
    {
     "data": {
      "text/html": [
       "<table>\n",
       "    <thead>\n",
       "        <tr>\n",
       "            <th>value</th>\n",
       "            <th>HUC_12</th>\n",
       "        </tr>\n",
       "    </thead>\n",
       "    <tbody>\n",
       "        <tr>\n",
       "            <td>7.55</td>\n",
       "            <td>040102010702</td>\n",
       "        </tr>\n",
       "        <tr>\n",
       "            <td>8.1</td>\n",
       "            <td>040102010708</td>\n",
       "        </tr>\n",
       "        <tr>\n",
       "            <td>7.6</td>\n",
       "            <td>040102010905</td>\n",
       "        </tr>\n",
       "        <tr>\n",
       "            <td>7.8</td>\n",
       "            <td>040102011005</td>\n",
       "        </tr>\n",
       "        <tr>\n",
       "            <td>7.78</td>\n",
       "            <td>040102011301</td>\n",
       "        </tr>\n",
       "    </tbody>\n",
       "</table>"
      ],
      "text/plain": [
       "[(7.55, '040102010702'),\n",
       " (8.1, '040102010708'),\n",
       " (7.6, '040102010905'),\n",
       " (7.8, '040102011005'),\n",
       " (7.78, '040102011301')]"
      ]
     },
     "execution_count": 14,
     "metadata": {},
     "output_type": "execute_result"
    }
   ],
   "source": [
    "%sql SELECT round(avg(\"pH.std_units\"),2) AS value, HUC_12 FROM CDFLOW WHERE State = \"MN\" GROUP BY HUC_12 LIMIT 5"
   ]
  },
  {
   "cell_type": "markdown",
   "metadata": {},
   "source": [
    "10\\. List COMIDS that have *p*CO<sub>2</sub> values with pH > 9, Alkalinity < 2500, and temperature > 25?"
   ]
  },
  {
   "cell_type": "code",
   "execution_count": 15,
   "metadata": {},
   "outputs": [
    {
     "name": "stdout",
     "output_type": "stream",
     "text": [
      " * sqlite:///CDFLOW.db\n",
      "Done.\n"
     ]
    },
    {
     "data": {
      "text/html": [
       "<table>\n",
       "    <thead>\n",
       "        <tr>\n",
       "            <th>COMID</th>\n",
       "        </tr>\n",
       "    </thead>\n",
       "    <tbody>\n",
       "        <tr>\n",
       "            <td>15673383</td>\n",
       "        </tr>\n",
       "        <tr>\n",
       "            <td>15668481</td>\n",
       "        </tr>\n",
       "        <tr>\n",
       "            <td>15667791</td>\n",
       "        </tr>\n",
       "        <tr>\n",
       "            <td>18503223</td>\n",
       "        </tr>\n",
       "        <tr>\n",
       "            <td>18506684</td>\n",
       "        </tr>\n",
       "        <tr>\n",
       "            <td>18509098</td>\n",
       "        </tr>\n",
       "        <tr>\n",
       "            <td>18508618</td>\n",
       "        </tr>\n",
       "        <tr>\n",
       "            <td>20100836</td>\n",
       "        </tr>\n",
       "        <tr>\n",
       "            <td>10206599</td>\n",
       "        </tr>\n",
       "        <tr>\n",
       "            <td>10083026</td>\n",
       "        </tr>\n",
       "        <tr>\n",
       "            <td>20100978</td>\n",
       "        </tr>\n",
       "        <tr>\n",
       "            <td>391716</td>\n",
       "        </tr>\n",
       "        <tr>\n",
       "            <td>904040051</td>\n",
       "        </tr>\n",
       "    </tbody>\n",
       "</table>"
      ],
      "text/plain": [
       "[(15673383,),\n",
       " (15668481,),\n",
       " (15667791,),\n",
       " (18503223,),\n",
       " (18506684,),\n",
       " (18509098,),\n",
       " (18508618,),\n",
       " (20100836,),\n",
       " (10206599,),\n",
       " (10083026,),\n",
       " (20100978,),\n",
       " (391716,),\n",
       " (904040051,)]"
      ]
     },
     "execution_count": 15,
     "metadata": {},
     "output_type": "execute_result"
    }
   ],
   "source": [
    "%sql SELECT Distinct(COMID) AS COMID FROM CDFLOW WHERE \"pH.std_units\" > 9 AND \"Temp.C\" > 25 AND \"Alkalinity.ueq/kgw\" > 2500"
   ]
  },
  {
   "cell_type": "markdown",
   "metadata": {},
   "source": [
    "11\\. Compute a running count of observations by date in each COMID."
   ]
  },
  {
   "cell_type": "code",
   "execution_count": 16,
   "metadata": {},
   "outputs": [
    {
     "name": "stdout",
     "output_type": "stream",
     "text": [
      " * sqlite:///CDFLOW.db\n",
      "Done.\n"
     ]
    },
    {
     "data": {
      "text/html": [
       "<table>\n",
       "    <thead>\n",
       "        <tr>\n",
       "            <th>COMID</th>\n",
       "            <th>Date</th>\n",
       "            <th>running_count</th>\n",
       "        </tr>\n",
       "    </thead>\n",
       "    <tbody>\n",
       "        <tr>\n",
       "            <td>12664</td>\n",
       "            <td>2018-05-08</td>\n",
       "            <td>1</td>\n",
       "        </tr>\n",
       "        <tr>\n",
       "            <td>12782</td>\n",
       "            <td>2018-08-13</td>\n",
       "            <td>1</td>\n",
       "        </tr>\n",
       "        <tr>\n",
       "            <td>12932</td>\n",
       "            <td>2018-02-07</td>\n",
       "            <td>1</td>\n",
       "        </tr>\n",
       "        <tr>\n",
       "            <td>12932</td>\n",
       "            <td>2018-03-07</td>\n",
       "            <td>2</td>\n",
       "        </tr>\n",
       "        <tr>\n",
       "            <td>12932</td>\n",
       "            <td>2018-04-10</td>\n",
       "            <td>3</td>\n",
       "        </tr>\n",
       "        <tr>\n",
       "            <td>12932</td>\n",
       "            <td>2018-05-08</td>\n",
       "            <td>4</td>\n",
       "        </tr>\n",
       "        <tr>\n",
       "            <td>12932</td>\n",
       "            <td>2018-07-10</td>\n",
       "            <td>5</td>\n",
       "        </tr>\n",
       "        <tr>\n",
       "            <td>12932</td>\n",
       "            <td>2018-08-07</td>\n",
       "            <td>6</td>\n",
       "        </tr>\n",
       "        <tr>\n",
       "            <td>12932</td>\n",
       "            <td>2018-09-11</td>\n",
       "            <td>7</td>\n",
       "        </tr>\n",
       "        <tr>\n",
       "            <td>12932</td>\n",
       "            <td>2018-10-09</td>\n",
       "            <td>8</td>\n",
       "        </tr>\n",
       "        <tr>\n",
       "            <td>12932</td>\n",
       "            <td>2018-11-06</td>\n",
       "            <td>9</td>\n",
       "        </tr>\n",
       "        <tr>\n",
       "            <td>12932</td>\n",
       "            <td>2019-02-12</td>\n",
       "            <td>10</td>\n",
       "        </tr>\n",
       "        <tr>\n",
       "            <td>12932</td>\n",
       "            <td>2019-03-05</td>\n",
       "            <td>11</td>\n",
       "        </tr>\n",
       "        <tr>\n",
       "            <td>12932</td>\n",
       "            <td>2019-04-09</td>\n",
       "            <td>12</td>\n",
       "        </tr>\n",
       "        <tr>\n",
       "            <td>12932</td>\n",
       "            <td>2019-05-07</td>\n",
       "            <td>13</td>\n",
       "        </tr>\n",
       "        <tr>\n",
       "            <td>12932</td>\n",
       "            <td>2019-08-12</td>\n",
       "            <td>14</td>\n",
       "        </tr>\n",
       "        <tr>\n",
       "            <td>12932</td>\n",
       "            <td>2019-09-10</td>\n",
       "            <td>15</td>\n",
       "        </tr>\n",
       "        <tr>\n",
       "            <td>12932</td>\n",
       "            <td>2019-10-01</td>\n",
       "            <td>16</td>\n",
       "        </tr>\n",
       "        <tr>\n",
       "            <td>12932</td>\n",
       "            <td>2019-11-05</td>\n",
       "            <td>17</td>\n",
       "        </tr>\n",
       "        <tr>\n",
       "            <td>13324</td>\n",
       "            <td>2019-07-18</td>\n",
       "            <td>1</td>\n",
       "        </tr>\n",
       "    </tbody>\n",
       "</table>"
      ],
      "text/plain": [
       "[(12664, '2018-05-08', 1),\n",
       " (12782, '2018-08-13', 1),\n",
       " (12932, '2018-02-07', 1),\n",
       " (12932, '2018-03-07', 2),\n",
       " (12932, '2018-04-10', 3),\n",
       " (12932, '2018-05-08', 4),\n",
       " (12932, '2018-07-10', 5),\n",
       " (12932, '2018-08-07', 6),\n",
       " (12932, '2018-09-11', 7),\n",
       " (12932, '2018-10-09', 8),\n",
       " (12932, '2018-11-06', 9),\n",
       " (12932, '2019-02-12', 10),\n",
       " (12932, '2019-03-05', 11),\n",
       " (12932, '2019-04-09', 12),\n",
       " (12932, '2019-05-07', 13),\n",
       " (12932, '2019-08-12', 14),\n",
       " (12932, '2019-09-10', 15),\n",
       " (12932, '2019-10-01', 16),\n",
       " (12932, '2019-11-05', 17),\n",
       " (13324, '2019-07-18', 1)]"
      ]
     },
     "execution_count": 16,
     "metadata": {},
     "output_type": "execute_result"
    }
   ],
   "source": [
    "# Window Function\n",
    "%sql SELECT COMID, Date, COUNT(COMID) OVER (PARTITION BY COMID ORDER BY Date) AS running_count FROM CDFLOW LIMIT 20"
   ]
  },
  {
   "cell_type": "markdown",
   "metadata": {},
   "source": [
    "12\\. Write a query to look at the difference between the most recent *p*CO<sub>2</sub> value from the last at a particular COMID"
   ]
  },
  {
   "cell_type": "code",
   "execution_count": 17,
   "metadata": {},
   "outputs": [
    {
     "name": "stdout",
     "output_type": "stream",
     "text": [
      " * sqlite:///CDFLOW.db\n",
      "Done.\n"
     ]
    },
    {
     "data": {
      "text/html": [
       "<table>\n",
       "    <thead>\n",
       "        <tr>\n",
       "            <th>COMID</th>\n",
       "            <th>Date</th>\n",
       "            <th>Diff_from_last</th>\n",
       "        </tr>\n",
       "    </thead>\n",
       "    <tbody>\n",
       "        <tr>\n",
       "            <td>12664</td>\n",
       "            <td>2018-05-08</td>\n",
       "            <td>None</td>\n",
       "        </tr>\n",
       "        <tr>\n",
       "            <td>12782</td>\n",
       "            <td>2018-08-13</td>\n",
       "            <td>None</td>\n",
       "        </tr>\n",
       "        <tr>\n",
       "            <td>12932</td>\n",
       "            <td>2018-02-07</td>\n",
       "            <td>None</td>\n",
       "        </tr>\n",
       "        <tr>\n",
       "            <td>12932</td>\n",
       "            <td>2018-03-07</td>\n",
       "            <td>1857.9879503609927</td>\n",
       "        </tr>\n",
       "        <tr>\n",
       "            <td>12932</td>\n",
       "            <td>2018-04-10</td>\n",
       "            <td>1039.9338534680805</td>\n",
       "        </tr>\n",
       "        <tr>\n",
       "            <td>12932</td>\n",
       "            <td>2018-05-08</td>\n",
       "            <td>-2755.134288795467</td>\n",
       "        </tr>\n",
       "        <tr>\n",
       "            <td>12932</td>\n",
       "            <td>2018-07-10</td>\n",
       "            <td>153.46667503441495</td>\n",
       "        </tr>\n",
       "        <tr>\n",
       "            <td>12932</td>\n",
       "            <td>2018-08-07</td>\n",
       "            <td>-330.90376550833196</td>\n",
       "        </tr>\n",
       "        <tr>\n",
       "            <td>12932</td>\n",
       "            <td>2018-09-11</td>\n",
       "            <td>316.082374222451</td>\n",
       "        </tr>\n",
       "        <tr>\n",
       "            <td>12932</td>\n",
       "            <td>2018-10-09</td>\n",
       "            <td>241.050592129013</td>\n",
       "        </tr>\n",
       "        <tr>\n",
       "            <td>12932</td>\n",
       "            <td>2018-11-06</td>\n",
       "            <td>361.99442322951995</td>\n",
       "        </tr>\n",
       "        <tr>\n",
       "            <td>12932</td>\n",
       "            <td>2019-02-12</td>\n",
       "            <td>593.8879767719802</td>\n",
       "        </tr>\n",
       "        <tr>\n",
       "            <td>12932</td>\n",
       "            <td>2019-03-05</td>\n",
       "            <td>-285.8746564648002</td>\n",
       "        </tr>\n",
       "        <tr>\n",
       "            <td>12932</td>\n",
       "            <td>2019-04-09</td>\n",
       "            <td>-808.8254228888471</td>\n",
       "        </tr>\n",
       "        <tr>\n",
       "            <td>12932</td>\n",
       "            <td>2019-05-07</td>\n",
       "            <td>925.5020002220973</td>\n",
       "        </tr>\n",
       "        <tr>\n",
       "            <td>12932</td>\n",
       "            <td>2019-08-12</td>\n",
       "            <td>-1292.1445255835172</td>\n",
       "        </tr>\n",
       "        <tr>\n",
       "            <td>12932</td>\n",
       "            <td>2019-09-10</td>\n",
       "            <td>175.89508315755904</td>\n",
       "        </tr>\n",
       "        <tr>\n",
       "            <td>12932</td>\n",
       "            <td>2019-10-01</td>\n",
       "            <td>931.0450699911281</td>\n",
       "        </tr>\n",
       "        <tr>\n",
       "            <td>12932</td>\n",
       "            <td>2019-11-05</td>\n",
       "            <td>-872.3706799979232</td>\n",
       "        </tr>\n",
       "        <tr>\n",
       "            <td>13324</td>\n",
       "            <td>2019-07-18</td>\n",
       "            <td>None</td>\n",
       "        </tr>\n",
       "    </tbody>\n",
       "</table>"
      ],
      "text/plain": [
       "[(12664, '2018-05-08', None),\n",
       " (12782, '2018-08-13', None),\n",
       " (12932, '2018-02-07', None),\n",
       " (12932, '2018-03-07', 1857.9879503609927),\n",
       " (12932, '2018-04-10', 1039.9338534680805),\n",
       " (12932, '2018-05-08', -2755.134288795467),\n",
       " (12932, '2018-07-10', 153.46667503441495),\n",
       " (12932, '2018-08-07', -330.90376550833196),\n",
       " (12932, '2018-09-11', 316.082374222451),\n",
       " (12932, '2018-10-09', 241.050592129013),\n",
       " (12932, '2018-11-06', 361.99442322951995),\n",
       " (12932, '2019-02-12', 593.8879767719802),\n",
       " (12932, '2019-03-05', -285.8746564648002),\n",
       " (12932, '2019-04-09', -808.8254228888471),\n",
       " (12932, '2019-05-07', 925.5020002220973),\n",
       " (12932, '2019-08-12', -1292.1445255835172),\n",
       " (12932, '2019-09-10', 175.89508315755904),\n",
       " (12932, '2019-10-01', 931.0450699911281),\n",
       " (12932, '2019-11-05', -872.3706799979232),\n",
       " (13324, '2019-07-18', None)]"
      ]
     },
     "execution_count": 17,
     "metadata": {},
     "output_type": "execute_result"
    }
   ],
   "source": [
    "%sql SELECT COMID, Date, \"pCO2.uatm\" - LAG(\"pCO2.uatm\") OVER (PARTITION BY COMID ORDER BY Date) AS Diff_from_last FROM CDFLOW LIMIT 20"
   ]
  },
  {
   "cell_type": "markdown",
   "metadata": {},
   "source": [
    "# 3. Expand"
   ]
  },
  {
   "cell_type": "markdown",
   "metadata": {},
   "source": [
    "Now, that we've written some SQL code and explored that database we can do some SQL tasks with more purpose!\n",
    "\n",
    "The feature that is of most interest is the estimate of *p*CO<sub>2</sub>. But looking at the other features I am also interested in grouping the estimates at the watershed level. If you're not familiar with watersheds, they are an area of land where all water drains to the same locations. Across the US watersheds are divided into Hydrological Units and classified by Hydrological Unit Codes (HUCs), which range from HUC12 to HUC2 going in 2-digit increments. Each HUC going from HUC12 to HUC2 gets larger and follows a nested system of classification. So, if you know the HUC12, you know each HUC to HUC2 that the observations fall into. A common watershed level that water is managed and studied across the US is at the HUC8 level and I am interested in grouping the data at that level. \n",
    "\n",
    "Knowing that I can get HUC8 from HUC12 I can create a new HUC8 feature using SQL."
   ]
  },
  {
   "cell_type": "code",
   "execution_count": 18,
   "metadata": {},
   "outputs": [
    {
     "name": "stdout",
     "output_type": "stream",
     "text": [
      " * sqlite:///CDFLOW.db\n",
      "Done.\n",
      " * sqlite:///CDFLOW.db\n",
      "25012 rows affected.\n",
      " * sqlite:///CDFLOW.db\n",
      "Done.\n"
     ]
    },
    {
     "data": {
      "text/html": [
       "<table>\n",
       "    <thead>\n",
       "        <tr>\n",
       "            <th>HUC_8</th>\n",
       "            <th>HUC_12</th>\n",
       "        </tr>\n",
       "    </thead>\n",
       "    <tbody>\n",
       "        <tr>\n",
       "            <td>17020015</td>\n",
       "            <td>170200150903</td>\n",
       "        </tr>\n",
       "        <tr>\n",
       "            <td>17020016</td>\n",
       "            <td>170200160305</td>\n",
       "        </tr>\n",
       "        <tr>\n",
       "            <td>17020016</td>\n",
       "            <td>170200160306</td>\n",
       "        </tr>\n",
       "        <tr>\n",
       "            <td>17020015</td>\n",
       "            <td>170200151010</td>\n",
       "        </tr>\n",
       "        <tr>\n",
       "            <td>17020015</td>\n",
       "            <td>170200150406</td>\n",
       "        </tr>\n",
       "    </tbody>\n",
       "</table>"
      ],
      "text/plain": [
       "[('17020015', '170200150903'),\n",
       " ('17020016', '170200160305'),\n",
       " ('17020016', '170200160306'),\n",
       " ('17020015', '170200151010'),\n",
       " ('17020015', '170200150406')]"
      ]
     },
     "execution_count": 18,
     "metadata": {},
     "output_type": "execute_result"
    }
   ],
   "source": [
    "# First create new HUC_8 column\n",
    "%sql ALTER TABLE CDFLOW ADD COLUMN HUC_8 TEXT\n",
    "\n",
    "# Populate column with substring of the HUC12 column\n",
    "%sql UPDATE CDFLOW SET HUC_8 = substr(HUC_12,1,8)\n",
    "\n",
    "# Test to make sure it worked\n",
    "%sql SELECT DISTINCT(HUC_8), HUC_12 FROM CDFLOW LIMIT 5"
   ]
  },
  {
   "cell_type": "markdown",
   "metadata": {},
   "source": [
    "Now that we have this new feature in the table, I am interested in expanding the DB so that it is more comprehensive. I want to add a table with HUC8 environmental data. This new table will be linked to the old *via* foreign key HUC_8.\n",
    "\n",
    "The HUC8 environmental data comes from the Environmental Protection Agencies Watershed Index Online (WSIO) Indicator Data Library ([link](https://www.epa.gov/wsio/wsio-indicator-data-library)). The specific HUC8 environmental variable I am interested in is the percent of land within each HUC8 classified under different land use classifications. \n",
    "\n",
    "To do this I first read in the datasets with Python and combined them to one dataset."
   ]
  },
  {
   "cell_type": "code",
   "execution_count": 19,
   "metadata": {},
   "outputs": [],
   "source": [
    "# Read in HUC8 landcover data\n",
    "\n",
    "import os\n",
    "\n",
    "file_list = os.listdir(\"data/WSIO_HUC8/\")\n",
    "\n",
    "HUC8_df = pd.DataFrame()\n",
    "for file in file_list:\n",
    "    temp = pd.read_excel(\n",
    "        \"data/WSIO_HUC8/\" + file,\n",
    "        sheet_name=\"WSIO_REGIONAL_DATA_TABLE\",\n",
    "        engine=\"openpyxl\",\n",
    "        usecols=[\n",
    "            \"Hydrologic Unit Code 8-Digit (HUC8)\",\n",
    "            \"% Forest in WS (2016)\",\n",
    "            \"% Shrub/Scrub in WS (2016)\",\n",
    "            \"% Grassland/Herbaceous in WS (2016)\",\n",
    "            \"% Wetlands in WS (2016)\",\n",
    "            \"% Open Water in WS (2016)\",\n",
    "            \"% Perennial Ice/Snow in WS (2016)\",\n",
    "            \"% Barren Land in WS (2016)\",\n",
    "            \"% Urban in WS (2016)\",\n",
    "            \"% Agriculture in WS (2016)\",\n",
    "        ],\n",
    "    )\n",
    "    HUC8_df = HUC8_df.append(temp)\n",
    "\n",
    "HUC8_df = HUC8_df.drop_duplicates(subset=[\"Hydrologic Unit Code 8-Digit (HUC8)\"])\n",
    "HUC8_df = HUC8_df.rename(columns={\"Hydrologic Unit Code 8-Digit (HUC8)\": \"HUC_8\"})  # rename\n",
    "HUC8_df[\"HUC_8\"] = HUC8_df[\"HUC_8\"].astype(str)  # Change col type\n",
    "HUC8_df[\"HUC_8\"] = HUC8_df[\"HUC_8\"].str.zfill(8)  # adding leanding zeros"
   ]
  },
  {
   "cell_type": "code",
   "execution_count": 20,
   "metadata": {},
   "outputs": [
    {
     "name": "stdout",
     "output_type": "stream",
     "text": [
      " * sqlite:///CDFLOW.db\n",
      "Done.\n"
     ]
    },
    {
     "data": {
      "text/plain": [
       "[]"
      ]
     },
     "execution_count": 20,
     "metadata": {},
     "output_type": "execute_result"
    }
   ],
   "source": [
    "# Some setup\n",
    "import warnings\n",
    "warnings.filterwarnings('ignore')\n",
    "\n",
    "HUC8_df.to_sql(\"HUC8TBL\", con, if_exists=\"replace\", index=False, method=\"multi\")\n",
    "%sql CREATE TABLE Landcover AS SELECT * FROM HUC8TBL"
   ]
  },
  {
   "cell_type": "markdown",
   "metadata": {},
   "source": [
    "# 4. Explore: SQL Queries Round 2"
   ]
  },
  {
   "cell_type": "markdown",
   "metadata": {},
   "source": [
    "Now that I have landcover data I can explore the data a bit further using multiple tables. Note the landcover table has HUC8 data from all HUC8 across the US while the CDFLOW table only has particular HUC8s.\n",
    "\n",
    "Like before I will list some prompts to lead further exploration of the DB. Note, that these prompts are more complex than before."
   ]
  },
  {
   "cell_type": "markdown",
   "metadata": {},
   "source": [
    "1\\. Rename the land cover table columns to be more user-friendly."
   ]
  },
  {
   "cell_type": "code",
   "execution_count": 21,
   "metadata": {},
   "outputs": [],
   "source": [
    "# This task is long and clunky so I had to do it a different way.\n",
    "rename_queries = [\n",
    "    \"ALTER TABLE Landcover RENAME COLUMN '% Forest in WS (2016)' TO Forest;\",\n",
    "    \"ALTER TABLE Landcover RENAME COLUMN '% Shrub/Scrub in WS (2016)' TO Shrub;\",\n",
    "    \"ALTER TABLE Landcover RENAME COLUMN '% Grassland/Herbaceous in WS (2016)' TO Grassland;\",\n",
    "    \"ALTER TABLE Landcover RENAME COLUMN '% Wetlands in WS (2016)' TO Wetlands;\",\n",
    "    \"ALTER TABLE Landcover RENAME COLUMN '% Open Water in WS (2016)' TO Open_Water;\",\n",
    "    \"ALTER TABLE Landcover RENAME COLUMN '% Perennial Ice/Snow in WS (2016)' TO Ice_and_Snow;\",\n",
    "    \"ALTER TABLE Landcover RENAME COLUMN '% Barren Land in WS (2016)' TO Barren;\",\n",
    "    \"ALTER TABLE Landcover RENAME COLUMN '% Urban in WS (2016)' TO Urban;\",\n",
    "    \"ALTER TABLE Landcover RENAME COLUMN '% Agriculture in WS (2016)' TO Agriculture;\",\n",
    "]\n",
    "\n",
    "for query in rename_queries:\n",
    "    con.execute(query)"
   ]
  },
  {
   "cell_type": "markdown",
   "metadata": {},
   "source": [
    "2\\. Query CO2 data with the land cover data."
   ]
  },
  {
   "cell_type": "code",
   "execution_count": 22,
   "metadata": {},
   "outputs": [
    {
     "name": "stdout",
     "output_type": "stream",
     "text": [
      " * sqlite:///CDFLOW.db\n",
      "Done.\n"
     ]
    },
    {
     "data": {
      "text/html": [
       "<table>\n",
       "    <thead>\n",
       "        <tr>\n",
       "            <th>COMID</th>\n",
       "            <th>Date</th>\n",
       "            <th>HUC_12</th>\n",
       "            <th>State</th>\n",
       "            <th>Temp.C</th>\n",
       "            <th>pH.std_units</th>\n",
       "            <th>Alkalinity.ueq/kgw</th>\n",
       "            <th>pCO2.uatm</th>\n",
       "            <th>id</th>\n",
       "            <th>HUC_8</th>\n",
       "            <th>HUC_8_1</th>\n",
       "            <th>Forest</th>\n",
       "            <th>Shrub</th>\n",
       "            <th>Grassland</th>\n",
       "            <th>Wetlands</th>\n",
       "            <th>Open_Water</th>\n",
       "            <th>Ice_and_Snow</th>\n",
       "            <th>Barren</th>\n",
       "            <th>Urban</th>\n",
       "            <th>Agriculture</th>\n",
       "        </tr>\n",
       "    </thead>\n",
       "    <tbody>\n",
       "        <tr>\n",
       "            <td>24407271</td>\n",
       "            <td>2018-02-14</td>\n",
       "            <td>170200150903</td>\n",
       "            <td>WA</td>\n",
       "            <td>4.7</td>\n",
       "            <td>8.6</td>\n",
       "            <td>3336.994</td>\n",
       "            <td>398.49838644954804</td>\n",
       "            <td>24407271_2018-02-14</td>\n",
       "            <td>17020015</td>\n",
       "            <td>17020015</td>\n",
       "            <td>0.0017229023873544</td>\n",
       "            <td>25.9511541765115</td>\n",
       "            <td>8.46795317515502</td>\n",
       "            <td>1.58900625791765</td>\n",
       "            <td>2.02023611886962</td>\n",
       "            <td>0.0</td>\n",
       "            <td>0.0467845038517374</td>\n",
       "            <td>3.66756892590063</td>\n",
       "            <td>58.2555739394065</td>\n",
       "        </tr>\n",
       "        <tr>\n",
       "            <td>24407271</td>\n",
       "            <td>2018-10-10</td>\n",
       "            <td>170200150903</td>\n",
       "            <td>WA</td>\n",
       "            <td>13.6</td>\n",
       "            <td>7.6</td>\n",
       "            <td>2098.11</td>\n",
       "            <td>2864.7799866996897</td>\n",
       "            <td>24407271_2018-10-10</td>\n",
       "            <td>17020015</td>\n",
       "            <td>17020015</td>\n",
       "            <td>0.0017229023873544</td>\n",
       "            <td>25.9511541765115</td>\n",
       "            <td>8.46795317515502</td>\n",
       "            <td>1.58900625791765</td>\n",
       "            <td>2.02023611886962</td>\n",
       "            <td>0.0</td>\n",
       "            <td>0.0467845038517374</td>\n",
       "            <td>3.66756892590063</td>\n",
       "            <td>58.2555739394065</td>\n",
       "        </tr>\n",
       "        <tr>\n",
       "            <td>24407271</td>\n",
       "            <td>2018-04-03</td>\n",
       "            <td>170200150903</td>\n",
       "            <td>WA</td>\n",
       "            <td>8.2</td>\n",
       "            <td>8.18</td>\n",
       "            <td>1998.2</td>\n",
       "            <td>668.1297441397</td>\n",
       "            <td>24407271_2018-04-03</td>\n",
       "            <td>17020015</td>\n",
       "            <td>17020015</td>\n",
       "            <td>0.0017229023873544</td>\n",
       "            <td>25.9511541765115</td>\n",
       "            <td>8.46795317515502</td>\n",
       "            <td>1.58900625791765</td>\n",
       "            <td>2.02023611886962</td>\n",
       "            <td>0.0</td>\n",
       "            <td>0.0467845038517374</td>\n",
       "            <td>3.66756892590063</td>\n",
       "            <td>58.2555739394065</td>\n",
       "        </tr>\n",
       "        <tr>\n",
       "            <td>24407271</td>\n",
       "            <td>2018-07-25</td>\n",
       "            <td>170200150903</td>\n",
       "            <td>WA</td>\n",
       "            <td>22.8</td>\n",
       "            <td>8.08</td>\n",
       "            <td>2198.02</td>\n",
       "            <td>1113.74822797132</td>\n",
       "            <td>24407271_2018-07-25</td>\n",
       "            <td>17020015</td>\n",
       "            <td>17020015</td>\n",
       "            <td>0.0017229023873544</td>\n",
       "            <td>25.9511541765115</td>\n",
       "            <td>8.46795317515502</td>\n",
       "            <td>1.58900625791765</td>\n",
       "            <td>2.02023611886962</td>\n",
       "            <td>0.0</td>\n",
       "            <td>0.0467845038517374</td>\n",
       "            <td>3.66756892590063</td>\n",
       "            <td>58.2555739394065</td>\n",
       "        </tr>\n",
       "        <tr>\n",
       "            <td>24407271</td>\n",
       "            <td>2019-10-15</td>\n",
       "            <td>170200150903</td>\n",
       "            <td>WA</td>\n",
       "            <td>10.0</td>\n",
       "            <td>8.1</td>\n",
       "            <td>2537.714</td>\n",
       "            <td>1038.6922232017</td>\n",
       "            <td>24407271_2019-10-15</td>\n",
       "            <td>17020015</td>\n",
       "            <td>17020015</td>\n",
       "            <td>0.0017229023873544</td>\n",
       "            <td>25.9511541765115</td>\n",
       "            <td>8.46795317515502</td>\n",
       "            <td>1.58900625791765</td>\n",
       "            <td>2.02023611886962</td>\n",
       "            <td>0.0</td>\n",
       "            <td>0.0467845038517374</td>\n",
       "            <td>3.66756892590063</td>\n",
       "            <td>58.2555739394065</td>\n",
       "        </tr>\n",
       "    </tbody>\n",
       "</table>"
      ],
      "text/plain": [
       "[(24407271, '2018-02-14', '170200150903', 'WA', 4.7, 8.6, 3336.994, 398.49838644954804, '24407271_2018-02-14', '17020015', '17020015', 0.0017229023873544, 25.9511541765115, 8.46795317515502, 1.58900625791765, 2.02023611886962, 0.0, 0.0467845038517374, 3.66756892590063, 58.2555739394065),\n",
       " (24407271, '2018-10-10', '170200150903', 'WA', 13.6, 7.6, 2098.11, 2864.7799866996897, '24407271_2018-10-10', '17020015', '17020015', 0.0017229023873544, 25.9511541765115, 8.46795317515502, 1.58900625791765, 2.02023611886962, 0.0, 0.0467845038517374, 3.66756892590063, 58.2555739394065),\n",
       " (24407271, '2018-04-03', '170200150903', 'WA', 8.2, 8.18, 1998.2, 668.1297441397, '24407271_2018-04-03', '17020015', '17020015', 0.0017229023873544, 25.9511541765115, 8.46795317515502, 1.58900625791765, 2.02023611886962, 0.0, 0.0467845038517374, 3.66756892590063, 58.2555739394065),\n",
       " (24407271, '2018-07-25', '170200150903', 'WA', 22.8, 8.08, 2198.02, 1113.74822797132, '24407271_2018-07-25', '17020015', '17020015', 0.0017229023873544, 25.9511541765115, 8.46795317515502, 1.58900625791765, 2.02023611886962, 0.0, 0.0467845038517374, 3.66756892590063, 58.2555739394065),\n",
       " (24407271, '2019-10-15', '170200150903', 'WA', 10.0, 8.1, 2537.714, 1038.6922232017, '24407271_2019-10-15', '17020015', '17020015', 0.0017229023873544, 25.9511541765115, 8.46795317515502, 1.58900625791765, 2.02023611886962, 0.0, 0.0467845038517374, 3.66756892590063, 58.2555739394065)]"
      ]
     },
     "execution_count": 22,
     "metadata": {},
     "output_type": "execute_result"
    }
   ],
   "source": [
    "# Left join\n",
    "%sql SELECT HUC_8, \"pCO2.uatm\" FROM CDFLOW LEFT JOIN Landcover ON CDFLOW.HUC_8 = Landcover.HUC_8 LIMIT 5"
   ]
  },
  {
   "cell_type": "markdown",
   "metadata": {},
   "source": [
    "3\\. Query pCO2 estimates where over 50% of the HUC8 is covered by water."
   ]
  },
  {
   "cell_type": "code",
   "execution_count": 23,
   "metadata": {},
   "outputs": [
    {
     "name": "stdout",
     "output_type": "stream",
     "text": [
      " * sqlite:///CDFLOW.db\n",
      "Done.\n"
     ]
    },
    {
     "data": {
      "text/html": [
       "<table>\n",
       "    <thead>\n",
       "        <tr>\n",
       "            <th>COMID</th>\n",
       "            <th>Date</th>\n",
       "            <th>HUC_12</th>\n",
       "            <th>State</th>\n",
       "            <th>Temp.C</th>\n",
       "            <th>pH.std_units</th>\n",
       "            <th>Alkalinity.ueq/kgw</th>\n",
       "            <th>pCO2.uatm</th>\n",
       "            <th>id</th>\n",
       "            <th>HUC_8</th>\n",
       "        </tr>\n",
       "    </thead>\n",
       "    <tbody>\n",
       "        <tr>\n",
       "            <td>932040370</td>\n",
       "            <td>2019-11-04</td>\n",
       "            <td>020402040000</td>\n",
       "            <td>GA</td>\n",
       "            <td>12.76</td>\n",
       "            <td>7.8</td>\n",
       "            <td>1420.7202</td>\n",
       "            <td>1216.2543842155499</td>\n",
       "            <td>932040370_2019-11-04</td>\n",
       "            <td>02040204</td>\n",
       "        </tr>\n",
       "        <tr>\n",
       "            <td>932040370</td>\n",
       "            <td>2019-03-11</td>\n",
       "            <td>020402040000</td>\n",
       "            <td>FL</td>\n",
       "            <td>4.24</td>\n",
       "            <td>7.87</td>\n",
       "            <td>1025.0766</td>\n",
       "            <td>680.623551996884</td>\n",
       "            <td>932040370_2019-03-11</td>\n",
       "            <td>02040204</td>\n",
       "        </tr>\n",
       "        <tr>\n",
       "            <td>932040370</td>\n",
       "            <td>2019-11-04</td>\n",
       "            <td>020402040000</td>\n",
       "            <td>FL</td>\n",
       "            <td>12.76</td>\n",
       "            <td>7.8</td>\n",
       "            <td>1420.7202</td>\n",
       "            <td>1216.2543842155499</td>\n",
       "            <td>932040370_2019-11-04</td>\n",
       "            <td>02040204</td>\n",
       "        </tr>\n",
       "        <tr>\n",
       "            <td>932040370</td>\n",
       "            <td>2019-08-27</td>\n",
       "            <td>020402040000</td>\n",
       "            <td>GA</td>\n",
       "            <td>23.14</td>\n",
       "            <td>7.63</td>\n",
       "            <td>1184.9326</td>\n",
       "            <td>1730.3671209455</td>\n",
       "            <td>932040370_2019-08-27</td>\n",
       "            <td>02040204</td>\n",
       "        </tr>\n",
       "        <tr>\n",
       "            <td>932040370</td>\n",
       "            <td>2019-09-09</td>\n",
       "            <td>020402040000</td>\n",
       "            <td>GA</td>\n",
       "            <td>23.46</td>\n",
       "            <td>7.56</td>\n",
       "            <td>1248.875</td>\n",
       "            <td>2152.51230110569</td>\n",
       "            <td>932040370_2019-09-09</td>\n",
       "            <td>02040204</td>\n",
       "        </tr>\n",
       "    </tbody>\n",
       "</table>"
      ],
      "text/plain": [
       "[(932040370, '2019-11-04', '020402040000', 'GA', 12.76, 7.8, 1420.7202, 1216.2543842155499, '932040370_2019-11-04', '02040204'),\n",
       " (932040370, '2019-03-11', '020402040000', 'FL', 4.24, 7.87, 1025.0766, 680.623551996884, '932040370_2019-03-11', '02040204'),\n",
       " (932040370, '2019-11-04', '020402040000', 'FL', 12.76, 7.8, 1420.7202, 1216.2543842155499, '932040370_2019-11-04', '02040204'),\n",
       " (932040370, '2019-08-27', '020402040000', 'GA', 23.14, 7.63, 1184.9326, 1730.3671209455, '932040370_2019-08-27', '02040204'),\n",
       " (932040370, '2019-09-09', '020402040000', 'GA', 23.46, 7.56, 1248.875, 2152.51230110569, '932040370_2019-09-09', '02040204')]"
      ]
     },
     "execution_count": 23,
     "metadata": {},
     "output_type": "execute_result"
    }
   ],
   "source": [
    "# Subquery\n",
    "%sql SELECT * FROM CDFLOW WHERE HUC_8 IN (select Landcover.HUC_8 FROM Landcover where Open_Water > 50) LIMIT 5"
   ]
  },
  {
   "cell_type": "markdown",
   "metadata": {},
   "source": [
    "4\\. Check to see that all HUC8 in the CDFLOW table are represented in the landcover table."
   ]
  },
  {
   "cell_type": "code",
   "execution_count": 24,
   "metadata": {},
   "outputs": [
    {
     "name": "stdout",
     "output_type": "stream",
     "text": [
      " * sqlite:///CDFLOW.db\n",
      "Done.\n"
     ]
    },
    {
     "data": {
      "text/html": [
       "<table>\n",
       "    <thead>\n",
       "        <tr>\n",
       "            <th>count(distinct(HUC_8))</th>\n",
       "        </tr>\n",
       "    </thead>\n",
       "    <tbody>\n",
       "        <tr>\n",
       "            <td>758</td>\n",
       "        </tr>\n",
       "    </tbody>\n",
       "</table>"
      ],
      "text/plain": [
       "[(758,)]"
      ]
     },
     "execution_count": 24,
     "metadata": {},
     "output_type": "execute_result"
    }
   ],
   "source": [
    "%sql SELECT count(distinct(HUC_8)) FROM CDFLOW WHERE EXISTS (SELECT distinct(HUC_8) FROM Landcover)\n",
    "\n",
    "# If you look at the original data frame there are 758 unique HUC8s to yes they are all there"
   ]
  },
  {
   "cell_type": "markdown",
   "metadata": {},
   "source": [
    "5\\. Find which HUC8s in the landcover table are represented in the CDFLOW table and return how many pCO2 estimates are available for each HUC8. Which HUC8 has the most data?"
   ]
  },
  {
   "cell_type": "code",
   "execution_count": 25,
   "metadata": {},
   "outputs": [
    {
     "name": "stdout",
     "output_type": "stream",
     "text": [
      " * sqlite:///CDFLOW.db\n",
      "Done.\n"
     ]
    },
    {
     "data": {
      "text/html": [
       "<table>\n",
       "    <thead>\n",
       "        <tr>\n",
       "            <th>HUC_8</th>\n",
       "            <th>Obsv_Availible</th>\n",
       "        </tr>\n",
       "    </thead>\n",
       "    <tbody>\n",
       "        <tr>\n",
       "            <td>10190003</td>\n",
       "            <td>929</td>\n",
       "        </tr>\n",
       "        <tr>\n",
       "            <td>04040003</td>\n",
       "            <td>760</td>\n",
       "        </tr>\n",
       "        <tr>\n",
       "            <td>02040205</td>\n",
       "            <td>703</td>\n",
       "        </tr>\n",
       "        <tr>\n",
       "            <td>04110002</td>\n",
       "            <td>579</td>\n",
       "        </tr>\n",
       "        <tr>\n",
       "            <td>02050306</td>\n",
       "            <td>417</td>\n",
       "        </tr>\n",
       "        <tr>\n",
       "            <td>02050305</td>\n",
       "            <td>396</td>\n",
       "        </tr>\n",
       "        <tr>\n",
       "            <td>03150106</td>\n",
       "            <td>395</td>\n",
       "        </tr>\n",
       "        <tr>\n",
       "            <td>17010201</td>\n",
       "            <td>358</td>\n",
       "        </tr>\n",
       "        <tr>\n",
       "            <td>05120208</td>\n",
       "            <td>271</td>\n",
       "        </tr>\n",
       "        <tr>\n",
       "            <td>05120201</td>\n",
       "            <td>270</td>\n",
       "        </tr>\n",
       "    </tbody>\n",
       "</table>"
      ],
      "text/plain": [
       "[('10190003', 929),\n",
       " ('04040003', 760),\n",
       " ('02040205', 703),\n",
       " ('04110002', 579),\n",
       " ('02050306', 417),\n",
       " ('02050305', 396),\n",
       " ('03150106', 395),\n",
       " ('17010201', 358),\n",
       " ('05120208', 271),\n",
       " ('05120201', 270)]"
      ]
     },
     "execution_count": 25,
     "metadata": {},
     "output_type": "execute_result"
    }
   ],
   "source": [
    "%sql SELECT distinct(HUC_8), count(\"pCO2.uatm\") AS Obsv_Availible FROM CDFLOW WHERE EXISTS (SELECT distinct(HUC_8) FROM Landcover) GROUP BY HUC_8 ORDER BY Obsv_Availible DESC LIMIT 10"
   ]
  },
  {
   "cell_type": "markdown",
   "metadata": {},
   "source": [
    "# 5. Evaluate\n",
    "\n",
    "Finally, I would like to create a quick real example of how an SQL query can be implemented into a modeling procedure of this data.\n",
    "\n",
    "I am interested in modeling how urban landcover might affect the average pCO2 in flowing freshwaters across HUC8 in the US. The actual science of this example is not important, but I think it's a good use case for using SQL to model data in Python.\n",
    "\n",
    "First, I'll query the data and save it as a Pandas df."
   ]
  },
  {
   "cell_type": "code",
   "execution_count": 26,
   "metadata": {},
   "outputs": [],
   "source": [
    "# Query for data\n",
    "mod_df = pd.read_sql_query(\n",
    "    \"\"\"SELECT * FROM Landcover LEFT JOIN (SELECT avg(\"pCO2.uatm\") AS mean, HUC_8 FROM CDFLOW Group By HUC_8) CDFLOW ON Landcover.HUC_8 = CDFLOW.HUC_8 WHERE CDFLOW.HUC_8 IS NOT NULL\"\"\",\n",
    "    con,\n",
    ")"
   ]
  },
  {
   "cell_type": "markdown",
   "metadata": {},
   "source": [
    "Next, let's take a quick look at the relationship I'm interested in."
   ]
  },
  {
   "cell_type": "code",
   "execution_count": 27,
   "metadata": {},
   "outputs": [
    {
     "data": {
      "image/png": "[encoded data removed]",
      "text/plain": [
       "<Figure size 640x480 with 1 Axes>"
      ]
     },
     "metadata": {},
     "output_type": "display_data"
    }
   ],
   "source": [
    "# visulize the data\n",
    "\n",
    "import matplotlib.pyplot as plt\n",
    "\n",
    "plt.scatter(x=mod_df[\"Urban\"], y=mod_df[\"mean\"])\n",
    "plt.title(\"Scatter Plot\")\n",
    "plt.xlabel(\"% Urban Land Cover in HUC8\")\n",
    "plt.ylabel(\"Mean pCO2\")\n",
    "plt.show()"
   ]
  },
  {
   "cell_type": "markdown",
   "metadata": {},
   "source": [
    "The relationship looks interesting and might make for an insightful linear model."
   ]
  },
  {
   "cell_type": "code",
   "execution_count": 125,
   "metadata": {},
   "outputs": [
    {
     "data": {
      "image/png": "[encoded data removed]",
      "text/plain": [
       "<Figure size 640x480 with 1 Axes>"
      ]
     },
     "metadata": {},
     "output_type": "display_data"
    }
   ],
   "source": [
    "from sklearn.linear_model import LinearRegression\n",
    "import numpy as np\n",
    "\n",
    "x = np.array(mod_df[\"Urban\"]).reshape(-1, 1)\n",
    "y = np.array(mod_df[\"mean\"]).reshape(-1, 1)\n",
    "\n",
    "model = LinearRegression()\n",
    "model.fit(x, y)\n",
    "\n",
    "plt.scatter(x, y, color=\"red\")\n",
    "plt.plot(x.reshape(-1, 1), model.predict(x), color=\"green\")\n",
    "plt.title(\"Linear Regression Model\")\n",
    "plt.xlabel(\"% Urban Land Cover in HUC8\")\n",
    "plt.ylabel(\"Mean pCO2\")\n",
    "plt.show()"
   ]
  },
  {
   "cell_type": "markdown",
   "metadata": {},
   "source": [
    "Looks like there is a positive linear relationship! Of course, more statistical testing is needed but that's not the point of this exercise."
   ]
  },
  {
   "cell_type": "markdown",
   "metadata": {},
   "source": [
    "# Conclusion\n",
    "\n",
    "Relational DBs are powerful, and SQL is a fundamental tool to fully utilize them. \n",
    "\n",
    "In summary, in this document, I created a relational DB then explored, expanded, and evaluated the data within."
   ]
  }
 ],
 "metadata": {
  "kernelspec": {
   "display_name": "Python 3",
   "language": "python",
   "name": "python3"
  },
  "language_info": {
   "codemirror_mode": {
    "name": "ipython",
    "version": 3
   },
   "file_extension": ".py",
   "mimetype": "text/x-python",
   "name": "python",
   "nbconvert_exporter": "python",
   "pygments_lexer": "ipython3",
   "version": "3.9.13"
  }
 },
 "nbformat": 4,
 "nbformat_minor": 2
}
